{
 "cells": [
  {
   "cell_type": "code",
   "execution_count": 13,
   "id": "e97e05cf-a1b9-444a-9cc5-a2225b4cf66d",
   "metadata": {},
   "outputs": [],
   "source": [
    "import random as rd"
   ]
  },
  {
   "cell_type": "markdown",
   "id": "1c0f16a7-9de3-4176-b957-3ae02fba45e7",
   "metadata": {},
   "source": [
    "## random module's method"
   ]
  },
  {
   "cell_type": "code",
   "execution_count": 14,
   "id": "1e8c900c-4940-4857-8802-58faae558aa9",
   "metadata": {},
   "outputs": [
    {
     "data": {
      "text/plain": [
       "7"
      ]
     },
     "execution_count": 14,
     "metadata": {},
     "output_type": "execute_result"
    }
   ],
   "source": [
    "rd.randint(1,10)"
   ]
  },
  {
   "cell_type": "markdown",
   "id": "771ac635-c400-45b3-bb05-4840a3719158",
   "metadata": {},
   "source": [
    "### How to generate floating point random numbers"
   ]
  },
  {
   "cell_type": "code",
   "execution_count": 15,
   "id": "e164e597-ceee-486d-8740-39e65aa81ed9",
   "metadata": {},
   "outputs": [
    {
     "name": "stdout",
     "output_type": "stream",
     "text": [
      "The value is: 0.35\n",
      "The value is: 1.97\n"
     ]
    }
   ],
   "source": [
    "rd_no_0to1 = rd.random()\n",
    "print(f'The value is: {rd_no_0to1:.2f}')\n",
    "\n",
    "# or we can use uniform method uniform to generate floating point numbers\n",
    "rd_uniform = rd.uniform(1,10)\n",
    "print(f'The value is: {rd_uniform:.2f}')"
   ]
  },
  {
   "cell_type": "markdown",
   "id": "fc3d4fe3-7fde-443e-abf9-3abb93619412",
   "metadata": {},
   "source": [
    "## Program to create head or tail"
   ]
  },
  {
   "cell_type": "code",
   "execution_count": 25,
   "id": "3f0eb0e0-3db0-4b9a-a50d-0c2074d0e929",
   "metadata": {},
   "outputs": [
    {
     "name": "stdout",
     "output_type": "stream",
     "text": [
      "Tail\n"
     ]
    }
   ],
   "source": [
    "head_tail = rd.randint(0,1)\n",
    "if head_tail == 0:\n",
    "    print('Head')\n",
    "else:\n",
    "    print('Tail')"
   ]
  },
  {
   "cell_type": "code",
   "execution_count": null,
   "id": "adcb4583-6d13-4b96-aeb4-fd37795e84d4",
   "metadata": {},
   "outputs": [],
   "source": []
  }
 ],
 "metadata": {
  "kernelspec": {
   "display_name": "Python 3 (ipykernel)",
   "language": "python",
   "name": "python3"
  },
  "language_info": {
   "codemirror_mode": {
    "name": "ipython",
    "version": 3
   },
   "file_extension": ".py",
   "mimetype": "text/x-python",
   "name": "python",
   "nbconvert_exporter": "python",
   "pygments_lexer": "ipython3",
   "version": "3.11.3"
  }
 },
 "nbformat": 4,
 "nbformat_minor": 5
}
