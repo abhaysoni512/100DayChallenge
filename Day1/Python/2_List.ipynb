{
 "cells": [
  {
   "cell_type": "markdown",
   "id": "3184d23b-f891-4220-a1e1-18925c3e7881",
   "metadata": {},
   "source": [
    "# ------ List ------"
   ]
  },
  {
   "cell_type": "markdown",
   "id": "4e267b7e-7cd0-47fb-8bdd-f205aceaf370",
   "metadata": {},
   "source": [
    "### List always start with a square bracket"
   ]
  },
  {
   "cell_type": "code",
   "execution_count": 2,
   "id": "5b3e3401-bf30-4c74-bacc-5fd7df5c4947",
   "metadata": {},
   "outputs": [],
   "source": [
    "states_of_america = [\"Delaware\", \"Pennsylvania\", \"New Jersey\", \"Georgia\", \"Connecticut\", \"Massachusetts\", \"Maryland\", \"South Carolina\", \"New Hampshire\", \"Virginia\", \"New York\", \"North Carolina\", \"Rhode Island\", \"Vermont\", \"Kentucky\", \"Tennessee\", \"Ohio\", \"Louisiana\", \"Indiana\", \"Mississippi\", \"Illinois\", \"Alabama\", \"Maine\", \"Missouri\", \"Arkansas\", \"Michigan\", \"Florida\", \"Texas\", \"Iowa\", \"Wisconsin\", \"California\", \"Minnesota\", \"Oregon\", \"Kansas\", \"West Virginia\", \"Nevada\", \"Nebraska\", \"Colorado\", \"North Dakota\", \"South Dakota\", \"Montana\", \"Washington\", \"Idaho\", \"Wyoming\", \"Utah\", \"Oklahoma\", \"New Mexico\", \"Arizona\", \"Alaska\", \"Hawaii\"]"
   ]
  },
  {
   "cell_type": "code",
   "execution_count": 4,
   "id": "26f7d33e-d8ed-4919-b35b-08c601028ea1",
   "metadata": {},
   "outputs": [
    {
     "name": "stdout",
     "output_type": "stream",
     "text": [
      "Pennsylvania\n"
     ]
    }
   ],
   "source": [
    "print(states_of_america[1])"
   ]
  },
  {
   "cell_type": "markdown",
   "id": "0ee5148c-288e-4664-a6f6-ae27d0089dfe",
   "metadata": {},
   "source": [
    "### why position 1? because list start with position 0"
   ]
  },
  {
   "cell_type": "code",
   "execution_count": 6,
   "id": "43f98819-c424-43f8-9fdb-c41eb2f38c3d",
   "metadata": {},
   "outputs": [
    {
     "name": "stdout",
     "output_type": "stream",
     "text": [
      "Puerto Rico\n"
     ]
    }
   ],
   "source": [
    "# Add new item to the list\n",
    "states_of_america.append(\"Puerto Rico\")\n",
    "\n",
    "print(states_of_america[-1])"
   ]
  },
  {
   "cell_type": "code",
   "execution_count": 8,
   "id": "d813283a-c62d-41bb-9ac8-869956ab46c5",
   "metadata": {},
   "outputs": [],
   "source": [
    "# Challenge : We will be having a list of friends and we need to randomly select one person to pay for the meal\n",
    "\n",
    "friends = [\"Angela\", \"Ben\", \"Jenny\", \"Michael\", \"Chloe\"]\n",
    "\n"
   ]
  },
  {
   "cell_type": "code",
   "execution_count": 16,
   "id": "fe47ead8-aefd-43d2-96db-0050a7170ecb",
   "metadata": {},
   "outputs": [
    {
     "name": "stdout",
     "output_type": "stream",
     "text": [
      "Angela is going to pay for the meal today!\n"
     ]
    }
   ],
   "source": [
    "import random as rd\n",
    "bill_payer = rd.randint(0,len(friends) - 1)\n",
    "\n",
    "print(f\"{friends[bill_payer]} is going to pay for the meal today!\")"
   ]
  },
  {
   "cell_type": "code",
   "execution_count": 17,
   "id": "f963cc9e-2b71-4ff3-ae09-755d30b81bc3",
   "metadata": {},
   "outputs": [
    {
     "name": "stdout",
     "output_type": "stream",
     "text": [
      "Jenny\n"
     ]
    }
   ],
   "source": [
    "# Other way to do the same thing is to use random.choice() method\n",
    "print(rd.choice(friends))"
   ]
  },
  {
   "cell_type": "code",
   "execution_count": null,
   "id": "aff5b753-0ab0-45c4-b7e9-11b5c3a497b7",
   "metadata": {},
   "outputs": [],
   "source": []
  }
 ],
 "metadata": {
  "kernelspec": {
   "display_name": "Python 3 (ipykernel)",
   "language": "python",
   "name": "python3"
  },
  "language_info": {
   "codemirror_mode": {
    "name": "ipython",
    "version": 3
   },
   "file_extension": ".py",
   "mimetype": "text/x-python",
   "name": "python",
   "nbconvert_exporter": "python",
   "pygments_lexer": "ipython3",
   "version": "3.11.3"
  }
 },
 "nbformat": 4,
 "nbformat_minor": 5
}
