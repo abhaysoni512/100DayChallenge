{
 "cells": [
  {
   "cell_type": "code",
   "execution_count": 1,
   "id": "644cb02d-f826-485b-b147-011932955dea",
   "metadata": {},
   "outputs": [],
   "source": [
    "states_of_america = [\"Delaware\", \"Pennsylvania\", \"New Jersey\", \"Georgia\", \"Connecticut\", \"Massachusetts\", \"Maryland\", \"South Carolina\", \"New Hampshire\", \"Virginia\", \"New York\", \"North Carolina\", \"Rhode Island\", \"Vermont\", \"Kentucky\", \"Tennessee\", \"Ohio\", \"Louisiana\", \"Indiana\", \"Mississippi\", \"Illinois\", \"Alabama\", \"Maine\", \"Missouri\", \"Arkansas\", \"Michigan\", \"Florida\", \"Texas\", \"Iowa\", \"Wisconsin\", \"California\", \"Minnesota\", \"Oregon\", \"Kansas\", \"West Virginia\", \"Nevada\", \"Nebraska\", \"Colorado\", \"North Dakota\", \"South Dakota\", \"Montana\", \"Washington\", \"Idaho\", \"Wyoming\", \"Utah\", \"Oklahoma\", \"New Mexico\", \"Arizona\", \"Alaska\", \"Hawaii\"]"
   ]
  },
  {
   "cell_type": "code",
   "execution_count": 5,
   "id": "4c838f3d-08ca-4efe-9f49-fbb272c72aca",
   "metadata": {},
   "outputs": [
    {
     "name": "stdout",
     "output_type": "stream",
     "text": [
      "Hawaii\n"
     ]
    }
   ],
   "source": [
    "print(states_of_america[49])\n",
    "\n",
    "\n",
    "# IndexError                                Traceback (most recent call last)\n",
    "# Cell In[2], line 1\n",
    "# ----> 1 print(states_of_america[50])\n",
    "\n",
    "# IndexError: list index out of range\n"
   ]
  },
  {
   "cell_type": "code",
   "execution_count": 6,
   "id": "934b9d0c-8c86-4b83-8795-be60e1f01ee1",
   "metadata": {},
   "outputs": [
    {
     "name": "stdout",
     "output_type": "stream",
     "text": [
      "[['Strawberries', 'Spinach', 'Kale', 'Nectarines', 'Apples', 'Grapes', 'Peaches', 'Cherries', 'Pears', 'Tomatoes'], ['Celery', 'Sweet bell peppers', 'Cucumbers', 'Cherry tomatoes', 'Snap peas (imported)', 'Potatoes']]\n"
     ]
    }
   ],
   "source": [
    "### Dirty fruits and vegetables that have high pesticide levels\n",
    "\n",
    "fruits = [\"Strawberries\", \"Spinach\", \"Kale\", \"Nectarines\", \"Apples\", \"Grapes\", \"Peaches\", \"Cherries\", \"Pears\", \"Tomatoes\"]\n",
    "vegetables = [\"Celery\", \"Sweet bell peppers\", \"Cucumbers\", \"Cherry tomatoes\", \"Snap peas (imported)\", \"Potatoes\"]\n",
    "\n",
    "dirty_dozen = [fruits, vegetables]\n",
    "print(dirty_dozen)"
   ]
  },
  {
   "cell_type": "code",
   "execution_count": null,
   "id": "5c6d7b04-4531-4a08-ab5c-8d9707fba8b6",
   "metadata": {},
   "outputs": [],
   "source": []
  }
 ],
 "metadata": {
  "kernelspec": {
   "display_name": "Python 3 (ipykernel)",
   "language": "python",
   "name": "python3"
  },
  "language_info": {
   "codemirror_mode": {
    "name": "ipython",
    "version": 3
   },
   "file_extension": ".py",
   "mimetype": "text/x-python",
   "name": "python",
   "nbconvert_exporter": "python",
   "pygments_lexer": "ipython3",
   "version": "3.11.3"
  }
 },
 "nbformat": 4,
 "nbformat_minor": 5
}
