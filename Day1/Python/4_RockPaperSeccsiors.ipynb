{
 "cells": [
  {
   "cell_type": "code",
   "execution_count": 26,
   "id": "c66c271c-a610-4e22-9ac8-8318d0dc236b",
   "metadata": {},
   "outputs": [
    {
     "name": "stdout",
     "output_type": "stream",
     "text": [
      "Rock:\n",
      "\n",
      "    _______\n",
      "---'   ____)\n",
      "      (_____)\n",
      "      (_____)\n",
      "      (____)\n",
      "---.__(___)\n",
      "\n",
      "Paper:\n",
      "\n",
      "    _______\n",
      "---'   ____)____\n",
      "          ______)\n",
      "          _______)\n",
      "         _______)\n",
      "---.__________)\n",
      "\n",
      "Scissors:\n",
      "\n",
      "    _______\n",
      "---'   ____)____\n",
      "          ______)\n",
      "       __________)\n",
      "      (____)\n",
      "---.__(___)\n",
      "\n"
     ]
    }
   ],
   "source": [
    "# introduce three variables with ascii odds of rock, paaper, scissors\n",
    "\n",
    "# Rock, Paper, Scissors ASCII Art\n",
    "\n",
    "rock = '''\n",
    "    _______\n",
    "---'   ____)\n",
    "      (_____)\n",
    "      (_____)\n",
    "      (____)\n",
    "---.__(___)\n",
    "'''\n",
    "\n",
    "paper = '''\n",
    "    _______\n",
    "---'   ____)____\n",
    "          ______)\n",
    "          _______)\n",
    "         _______)\n",
    "---.__________)\n",
    "'''\n",
    "\n",
    "scissors = '''\n",
    "    _______\n",
    "---'   ____)____\n",
    "          ______)\n",
    "       __________)\n",
    "      (____)\n",
    "---.__(___)\n",
    "'''\n",
    "\n",
    "# Example usage\n",
    "print(\"Rock:\")\n",
    "print(rock)\n",
    "print(\"Paper:\")\n",
    "print(paper)\n",
    "print(\"Scissors:\")\n",
    "print(scissors)"
   ]
  },
  {
   "cell_type": "code",
   "execution_count": 27,
   "id": "5c91eff9-76fe-41a4-b148-8b269015ba2c",
   "metadata": {},
   "outputs": [],
   "source": [
    "### Steps for Project\n",
    "\n",
    "# Step 1: Get user input : What do you choose? Type 0 for Rock, 1 for Paper or 2 for Scissors.\n",
    "# Step 2 : Computer randomly chooses one of the three options\n",
    "# Step 3 : Compare the two choices and decide the winner\n",
    "# step 4 : Print the result"
   ]
  },
  {
   "cell_type": "markdown",
   "id": "1485338c-6d1c-4505-bee8-104334a01bf3",
   "metadata": {},
   "source": [
    "### Import Modules"
   ]
  },
  {
   "cell_type": "code",
   "execution_count": 28,
   "id": "7fab63af-34bb-4640-985c-8ef97eb15dfa",
   "metadata": {},
   "outputs": [],
   "source": [
    "import random as rd"
   ]
  },
  {
   "cell_type": "markdown",
   "id": "4d850050-98dc-4a25-85e2-0c3ce8f9c5a5",
   "metadata": {},
   "source": [
    "### Step 1: Get user input : What do you choose? Type 0 for Rock, 1 for Paper or 2 for Scissors."
   ]
  },
  {
   "cell_type": "code",
   "execution_count": 29,
   "id": "5e74cce9-f006-4741-b581-e7a276e3b26d",
   "metadata": {},
   "outputs": [
    {
     "name": "stdout",
     "output_type": "stream",
     "text": [
      "User choice:\n",
      "\n",
      "    _______\n",
      "---'   ____)____\n",
      "          ______)\n",
      "       __________)\n",
      "      (____)\n",
      "---.__(___)\n",
      "\n"
     ]
    }
   ],
   "source": [
    "user_choice = int(input(\"What do you choose? Type 0 for Rock, 1 for Paper or 2 for Scissors.\\n\"))\n",
    "if user_choice >= 3 or user_choice < 0:\n",
    "    print(\"You typed an invalid number, you lose!\")\n",
    "else:\n",
    "    print(\"User choice:\")\n",
    "    if user_choice == 0:\n",
    "        print(rock)\n",
    "    elif user_choice == 1:\n",
    "        print(paper)\n",
    "    else:\n",
    "        print(scissors)"
   ]
  },
  {
   "cell_type": "markdown",
   "id": "c36e9d6d",
   "metadata": {},
   "source": [
    "### Step 2 : Computer randomly chooses one of the three options"
   ]
  },
  {
   "cell_type": "code",
   "execution_count": 30,
   "id": "684629c7",
   "metadata": {},
   "outputs": [
    {
     "name": "stdout",
     "output_type": "stream",
     "text": [
      "Computer choice:\n",
      "\n",
      "    _______\n",
      "---'   ____)____\n",
      "          ______)\n",
      "       __________)\n",
      "      (____)\n",
      "---.__(___)\n",
      "\n"
     ]
    }
   ],
   "source": [
    "computer_choice = rd.randint(0, 2)\n",
    "print(\"Computer choice:\")\n",
    "if computer_choice == 0:\n",
    "    print(rock)\n",
    "elif computer_choice == 1:\n",
    "    print(paper)\n",
    "else:\n",
    "    print(scissors)"
   ]
  },
  {
   "cell_type": "code",
   "execution_count": 32,
   "id": "73632829",
   "metadata": {},
   "outputs": [
    {
     "name": "stdout",
     "output_type": "stream",
     "text": [
      "Result:\n",
      "User choice: 2, Computer choice: 2\n",
      "It's a draw\n"
     ]
    }
   ],
   "source": [
    "print(\"Result:\") \n",
    "print(f\"User choice: {user_choice}, Computer choice: {computer_choice}\")\n",
    "if user_choice == computer_choice:\n",
    "    print(\"It's a draw\")\n",
    "#win conditions for user : Rock(0) wins against scissors(2), Paper(1) wins against Rock(0), Scissors(2) wins against Paper(1)\n",
    "elif (user_choice == 0 and computer_choice == 2) or (user_choice == 1 and computer_choice == 0) or (user_choice == 2 and computer_choice == 1):\n",
    "    print(\"You win!\")\n",
    "else:\n",
    "    print(\"You lose!\") "
   ]
  }
 ],
 "metadata": {
  "kernelspec": {
   "display_name": "Python 3",
   "language": "python",
   "name": "python3"
  },
  "language_info": {
   "codemirror_mode": {
    "name": "ipython",
    "version": 3
   },
   "file_extension": ".py",
   "mimetype": "text/x-python",
   "name": "python",
   "nbconvert_exporter": "python",
   "pygments_lexer": "ipython3",
   "version": "3.9.6"
  }
 },
 "nbformat": 4,
 "nbformat_minor": 5
}
